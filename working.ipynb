{
 "cells": [
  {
   "cell_type": "code",
   "execution_count": 1,
   "id": "36a33811",
   "metadata": {},
   "outputs": [
    {
     "name": "stdout",
     "output_type": "stream",
     "text": [
      " Volume in drive C has no label.\n",
      " Volume Serial Number is 77B6-1F68\n",
      "\n",
      " Directory of C:\\Users\\Rudol\\0_Github\\Brain MRI Data\n",
      "\n",
      "20/07/2023  08:15 PM    <DIR>          .\n",
      "20/07/2023  08:15 PM    <DIR>          ..\n",
      "20/07/2023  08:15 PM    <DIR>          .ipynb_checkpoints\n",
      "20/07/2023  08:14 PM         1,134,529 brain-mri-image-alzheimer-classifier.ipynb\n",
      "20/07/2023  08:15 PM         1,134,529 brain-mri-image-alzheimer-classifier-Copy1.ipynb\n",
      "20/07/2023  08:13 PM    <DIR>          data\n",
      "20/07/2023  08:15 PM                72 working.ipynb\n",
      "               3 File(s)      2,269,130 bytes\n",
      "               4 Dir(s)  956,453,126,144 bytes free\n"
     ]
    }
   ],
   "source": [
    "ls"
   ]
  },
  {
   "cell_type": "code",
   "execution_count": null,
   "id": "e667febc",
   "metadata": {},
   "outputs": [],
   "source": []
  }
 ],
 "metadata": {
  "kernelspec": {
   "display_name": "Python 3 (ipykernel)",
   "language": "python",
   "name": "python3"
  },
  "language_info": {
   "codemirror_mode": {
    "name": "ipython",
    "version": 3
   },
   "file_extension": ".py",
   "mimetype": "text/x-python",
   "name": "python",
   "nbconvert_exporter": "python",
   "pygments_lexer": "ipython3",
   "version": "3.10.9"
  }
 },
 "nbformat": 4,
 "nbformat_minor": 5
}
